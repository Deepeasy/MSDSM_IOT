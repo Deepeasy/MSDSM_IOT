{
 "cells": [
  {
   "cell_type": "markdown",
   "metadata": {},
   "source": [
    "### === some notes about this file === #\n",
    "- Ascon family includes AEAD, hash, and mac algorithms. This file is an implementation for AEAD only\n",
    "- Also, Ascon has 3 AEAD variants, this file is only for Ascon-128 variant, since it's the primary variant of Ascon\n",
    "### AEAD = Authenticated Encryption with Associated Data\n",
    "- Ascon submission paper: https://csrc.nist.gov/CSRC/media/Projects/lightweight-cryptography/documents/finalist-round/updated-spec-doc/ascon-spec-final.pdf\n",
    "\n",
    "- this file is meant to be a quick hands on Ascon-128 encryption/decryption\n",
    "\n",
    "\n",
    "### === Ascon core steps === #\n",
    "- initialize > associated data > plaintext/ciphertext > finalization\n",
    "\n",
    "### === Ascon parameters === #\n",
    "- S = ascon state = 64 columns * 5 raws = 320 bits\n",
    "- data block size = rate (r) = 1st raw of the state = 64 bits\n",
    "- iv = 64 bits = 80400C0600000000\n",
    "- key size = 128 bits\n",
    "- nonce = 128 bits\n",
    "- tag = 128 bits\n"
   ]
  },
  {
   "cell_type": "code",
   "execution_count": 1,
   "metadata": {
    "id": "GfkyYFbB4NMt"
   },
   "outputs": [],
   "source": [
    "def ascon_encrypt(key, nonce, associateddata, plaintext): # input\n",
    "    # make sure parameters are within the correct ranges\n",
    "    assert(len(key) == 16 and len(nonce) == 16)\n",
    "\n",
    "    # parameters\n",
    "    S = [0, 0, 0, 0, 0]    # state rows\n",
    "    a = 12  # initial & final rounds\n",
    "    b = 6   # intermediate rounds\n",
    "    rate = 8    # bytes\n",
    "\n",
    "    # process\n",
    "    ascon_initialize(S, a, key, nonce)\n",
    "    ascon_process_associated_data(S, b, rate, associateddata)\n",
    "    ciphertext = ascon_process_plaintext(S, b, rate, plaintext)\n",
    "    tag = ascon_finalize(S, a, key)\n",
    "\n",
    "    #output = ciphertext (same size as plaintext) + tag (128-bits)\n",
    "    return ciphertext + tag"
   ]
  },
  {
   "cell_type": "markdown",
   "metadata": {},
   "source": [
    "- The ascon_encrypt function takes the encryption parameters as input: key, nonce, associateddata, and plaintext.\n",
    "- It performs a simple assertion to ensure that the lengths of key and nonce are both 16 bytes (128 bits), as required.\n",
    "\n",
    "### Defines the parameters for the Ascon algorithm:\n",
    " - S: The state, initialized as a list of zeros with 5 elements.\n",
    " - a: The number of initial and final rounds.\n",
    " - b: The number of intermediate rounds.\n",
    " - rate: The rate in bytes (size of a data block).\n",
    " \n",
    " ### Calls several helper functions to perform the Ascon encryption process:\n",
    " - ascon_initialize: Initializes the Ascon state with the provided key and nonce.\n",
    " - ascon_process_associated_data: Processes the associated data (if any).\n",
    " - ascon_process_plaintext: Processes the plaintext data.\n",
    " - ascon_finalize: Finalizes the encryption process and generates the tag.\n",
    " \n",
    " ### Returns the ciphertext concatenated with the authentication tag.\n",
    "- The ascon_decrypt function follows a similar structure, but it's for decryption and includes additional steps for tag verification.\n",
    "\n",
    "- The remaining code provides helper functions and explanations for understanding the Ascon algorithm's internals, including the substitution layer (S-box) implementation using both a lookup table (LUT) and a logic gate-based approach."
   ]
  },
  {
   "cell_type": "code",
   "execution_count": 2,
   "metadata": {
    "id": "hlSUd1rn4TZu"
   },
   "outputs": [],
   "source": [
    "def ascon_decrypt(key, nonce, associateddata, ciphertext): # input\n",
    "    # make sure parameters are within the correct ranges\n",
    "    assert(len(key) == 16 and len(nonce) == 16 and len(ciphertext) >= 16)\n",
    "\n",
    "    # parameters\n",
    "    S = [0, 0, 0, 0, 0]    # state raws\n",
    "    a = 12  # inititial & final rounds\n",
    "    b = 6   # intermediate rounds\n",
    "    rate = 8    # bytes\n",
    "\n",
    "    # process\n",
    "    ascon_initialize(S, a, key, nonce)\n",
    "    ascon_process_associated_data(S, b, rate, associateddata)\n",
    "    plaintext = ascon_process_ciphertext(S, b, rate, ciphertext[:-16])  # ignore the tag (last 16 bytes)\n",
    "    tag = ascon_finalize(S, a, key)\n",
    "\n",
    "    # output\n",
    "    if tag == ciphertext[-16:]: # check the tag for authentication (last 16 bytes)\n",
    "        return plaintext\n",
    "    else:\n",
    "        return None"
   ]
  },
  {
   "cell_type": "markdown",
   "metadata": {},
   "source": [
    "### Function: ascon_decrypt\n",
    "- This function is responsible for decrypting ciphertext using the Ascon-128 encryption algorithm. Here's a breakdown:\n",
    "\n",
    "### Parameters:\n",
    "\n",
    " - key: The encryption key (128 bits).\n",
    " - nonce: Nonce used during encryption (128 bits).\n",
    " - associateddata: Associated data used during encryption.\n",
    " - ciphertext: The encrypted ciphertext.\n",
    "\n",
    "### Parameter Check:\n",
    "- It checks if the length of the key, nonce, and ciphertext are valid.\n",
    "\n",
    "### Initialization:\n",
    "- Initializes the state S, number of initial and final rounds a, number of intermediate rounds b, and the rate rate.\n",
    "\n",
    "### Process:\n",
    "- Initializes the state using the ascon_initialize function.\n",
    "- Processes the associated data using the ascon_process_associated_data function.\n",
    "- Decrypts the ciphertext using the ascon_process_ciphertext function, excluding the tag (last 16 bytes).\n",
    "- Finalizes the state using the ascon_finalize function to obtain the tag.\n",
    "\n",
    "### Output:\n",
    "- Checks if the obtained tag matches the tag from the ciphertext for authentication. If they match, returns the decrypted plaintext; otherwise, returns None."
   ]
  },
  {
   "cell_type": "code",
   "execution_count": 3,
   "metadata": {
    "id": "uzSb5z0i4W5n"
   },
   "outputs": [],
   "source": [
    "def ascon_initialize(S, a, key, nonce):\n",
    "    iv = bytes.fromhex('80400c0600000000')\n",
    "    '''\n",
    "    '80400c0600000000' is a fixed iv for Ascon-128, representing its main paramters as following:\n",
    "      # 80 -> 128 -> key length (k)\n",
    "      # 40 -> 64 -> rate (r)\n",
    "      # 0c -> 12 -> a -> number of initial and final permuations\n",
    "      # 06 -> 6 -> b -> number of intermediate permutaions\n",
    "      # 0000000 = padding\n",
    "    '''\n",
    "\n",
    "    initial_sate = iv + key + nonce # initial state = iv (64 bits) + key (128 bits) + nonce (128 bits) = 320 bits = 40 bytes\n",
    "\n",
    "    '''\n",
    "    # filling the initial state block as follows (in decimal):\n",
    "      1st raw S[0] = iv\n",
    "      2nd & 3rd raws S[1], S[2] = key\n",
    "      4rd & 5th raws S[4], S[5] = nonce\n",
    "    '''\n",
    "    S[0], S[1], S[2], S[3], S[4] = bytes_to_state(initial_sate)\n",
    "\n",
    "    # initial permutation of the state\n",
    "    ascon_permutation(S, a)\n",
    "\n",
    "    # zero_key = key padded with 0s put before it\n",
    "    # 0*||K = 24 of zero bytes + 16-byte key = 40 bytes total = 320 bits\n",
    "    # initialize the zero_key and put it in a block\n",
    "    zero_key = bytes_to_state(b\"\\x00\" * (40-len(key)) + key)\n",
    "\n",
    "    # XOR the state with the zero_key\n",
    "    for i in range(5): S[i] ^= zero_key[i]"
   ]
  },
  {
   "cell_type": "markdown",
   "metadata": {},
   "source": [
    "### Function: ascon_initialize\n",
    "This function initializes the state S using the provided key, nonce, and a fixed initialization vector (IV). Here's an explanation:\n",
    "\n",
    "Initialization Vector (IV):\n",
    "\n",
    "A fixed IV specific to Ascon-128 is used ('80400c0600000000') to represent its main parameters: key length, rate, number of permutations, etc.\n",
    "Initial State:\n",
    "\n",
    "Constructs the initial state block by concatenating the IV, key, and nonce.\n",
    "Fills the state with specific values from the initial state block.\n",
    "Initial Permutation:\n",
    "\n",
    "Applies the initial permutation to the state using the ascon_permutation function.\n",
    "Zero Key:\n",
    "\n",
    "Prepares a zero-padded key for XOR operation with the state.\n",
    "XOR Operation:\n",
    "\n",
    "Performs an XOR operation between the state and the zero-padded key.\n",
    "This initialization process sets up the state for subsequent encryption or decryption operations in Ascon-128."
   ]
  },
  {
   "cell_type": "code",
   "execution_count": 4,
   "metadata": {
    "id": "PH8IUrd74bDx"
   },
   "outputs": [],
   "source": [
    "# ad = associated data\n",
    "def ascon_process_associated_data(S, b, rate, associateddata):\n",
    "    if len(associateddata) > 0:\n",
    "        # == padding == #\n",
    "        # associated data is padded by 1 followed by 0s --> 1 || 0s\n",
    "\n",
    "        # length of last block in the raw associated data (before padding)\n",
    "        ad_lastlen = len(associateddata) % rate\n",
    "\n",
    "        # calculate how many zero bytes needed for padding\n",
    "        ad_zero_bytes = rate - (ad_lastlen % rate) -  1\n",
    "\n",
    "        # keep in mind that 0x80 = 128 = 10000000 in binary\n",
    "        ad_padding = bytes([0x80] + [0x00]*ad_zero_bytes)\n",
    "        ad_padded = associateddata + ad_padding\n",
    "\n",
    "        # == absorbtion of associated data ==#\n",
    "        # xor padded associated data with the rate, then permute\n",
    "        for block in range(0, len(ad_padded), rate):\n",
    "            S[0] ^= int(ad_padded[block:block+8].hex(), 16)\n",
    "            ascon_permutation(S, b)\n",
    "\n",
    "    # state is xored with 1 for domain separation --> S ^ (0**319 || 1)\n",
    "    # we only need to xor 1 with the last raw because first 4 raws will remain unchanged\n",
    "    S[4] ^= 1\n",
    "\n"
   ]
  },
  {
   "cell_type": "markdown",
   "metadata": {},
   "source": [
    "### This function ascon_process_associated_data is responsible for processing the associated data in the Ascon encryption algorithm. Here's a breakdown of the code:\n",
    "- This function takes four parameters: S (state array), b (number of intermediate rounds), rate (rate of absorption in bytes), and associateddata (associated data to be processed).\n",
    "\n",
    "- It first checks if the length of the associated data is greater than 0, ensuring there is data to process.\n",
    "- The associated data is padded according to the rate. It starts with appending a byte with hexadecimal value 0x80 (binary 10000000), followed by zero bytes to fill the block.\n",
    "\n",
    "- The calculation ensures that the padding starts with 0x80 followed by enough zeros to complete the block, considering the length of the associated data.\n",
    "\n",
    "- The function then absorbs the padded associated data into the state array S. It does so by iterating over blocks of data (with size equal to the rate) and XORing each block with the state, followed by permutation using the ascon_permutation function.\n",
    "\n",
    "- Finally, the state is XORed with 1 for domain separation. Since only the last row of the state requires this XOR operation, it's performed only on S[4]."
   ]
  },
  {
   "cell_type": "code",
   "execution_count": 5,
   "metadata": {
    "id": "qe3S8YIR6HvW"
   },
   "outputs": [],
   "source": [
    "### ============================================================================== ###\n",
    "\n",
    "def ascon_process_plaintext(S, b, rate, plaintext):\n",
    "    # == padding == #\n",
    "    # plaintext is padded by 1 followed by 0s --> 1 || 0s\n",
    "    # note: we need padding only to be able to calculate the the new rate, otherwise the ciphertext is truncated eventually and the padding is discarded\n",
    "\n",
    "    # length of last block in the raw plaintext (before padding)\n",
    "    p_lastlen = len(plaintext) % rate\n",
    "\n",
    "    # calculate how many zero bytes needed for padding\n",
    "    p_zero_bytes = (rate - p_lastlen) - 1\n",
    "\n",
    "    # keep in mind that 0x80 = 128 = 10000000 in binary\n",
    "    p_padding = bytes([0x80] + [0x00]*p_zero_bytes)\n",
    "    p_padded = plaintext + p_padding\n",
    "\n",
    "    # == absorbtion of plaintext & squeezing of ciphertext == #\n",
    "    # processing of first t-1 blocks (all blocks except the last one)\n",
    "    ciphertext = bytes([])\n",
    "    blocks = len(p_padded) - rate # length of plaintext blocks except the last block\n",
    "\n",
    "    for block in range(0, blocks, rate): # ex: if len(p_padded)=24, p1 = 0 to 8, p2 = 8 to 16,, ignoring the last block which is 16 to 24\n",
    "        S[0] ^= int(p_padded[block:block+8].hex(), 16)  # absorbing = xoring plaintext with the rate\n",
    "        ciphertext += S[0].to_bytes(8, 'big') # squeezing\n",
    "        ascon_permutation(S, b)\n",
    "\n",
    "    #  processing of last block\n",
    "    p_last = int(p_padded[blocks:].hex(), 16)\n",
    "    S[0] ^= p_last\n",
    "    # there is no intermediate permutation after the last block\n",
    "\n",
    "    # last block of ciphertext is truncated to become with the same length of the last block of raw plaintext (before padding)\n",
    "    # intended result: len(ciphertext) == len(plaintext)\n",
    "    ciphertext += S[0].to_bytes(8, 'big')[:p_lastlen]\n",
    "    return ciphertext\n",
    "\n"
   ]
  },
  {
   "cell_type": "markdown",
   "metadata": {},
   "source": [
    "### This function ascon_process_plaintext is responsible for processing the plaintext in the Ascon encryption algorithm. Here's a breakdown of the code:\n",
    "\n",
    "- The function starts by padding the plaintext to ensure its length is a multiple of the rate. This padding is done by appending a byte with hexadecimal value 0x80 (binary 10000000), followed by zero bytes to fill the block.\n",
    "\n",
    "- The length of the last block in the plaintext (before padding) is calculated to determine the padding required.\n",
    "\n",
    "- The number of zero bytes needed for padding is calculated to ensure that the total length becomes a multiple of the rate.\n",
    "\n",
    "- The function then processes the plaintext blocks by XORing them with the state array S and squeezing the result into the ciphertext. This process iterates over all blocks except the last one.\n",
    "\n",
    "- Each block of plaintext is absorbed into the state by XORing it with the rate, and then the state is permuted using the ascon_permutation function.\n",
    "\n",
    "- Finally, the last block of plaintext is processed similarly, but without intermediate permutation. The resulting ciphertext is truncated to have the same length as the last block of the original plaintext before padding."
   ]
  },
  {
   "cell_type": "code",
   "execution_count": 6,
   "metadata": {
    "id": "AkpKAgtU6MYs"
   },
   "outputs": [],
   "source": [
    "### ============================================================================== ###\n",
    "\n",
    "def ascon_process_ciphertext(S, b, rate, ciphertext):\n",
    "    # == padding == #\n",
    "    # ciphertext is padded by 1 followed by 0s --> 1 || 0s\n",
    "\n",
    "    # length of last block of ciphertext\n",
    "    c_lastlen = len(ciphertext) % rate\n",
    "\n",
    "    # calculate how many zero bytes needed for padding\n",
    "    c_zero_bytes = (rate - c_lastlen) - 1\n",
    "\n",
    "    # keep in mind that 0x80 = 128 = 10000000 in binary\n",
    "    c_padding = bytes([0x80] + (c_zero_bytes)*[0x00])\n",
    "    c_padded = ciphertext + c_padding\n",
    "\n",
    "    # == absorbtion of ciphertext & squeezing of plaintext == #\n",
    "    # processing of first t-1 blocks  (all blocks except the last one)\n",
    "    plaintext = bytes([])\n",
    "    blocks = len(c_padded) - rate # length of ciphetext blocks except the last block\n",
    "\n",
    "    for block in range(0, blocks, rate):\n",
    "        Ci = int(c_padded[block:block+8].hex(), 16) # 1 byte block of ciphertext\n",
    "        plaintext += (S[0] ^ Ci).to_bytes(8, 'big')\n",
    "        S[0] = Ci # rate will become the ciphertext block\n",
    "        ascon_permutation(S, b)\n",
    "\n",
    "    # processing of last block t\n",
    "    c_last = int(c_padded[blocks:].hex(), 16) # last block\n",
    "    plaintext += (c_last ^ S[0]).to_bytes(8, 'big')[:c_lastlen]\n",
    "\n",
    "    # rate = S[0] ^ (plaintext || 1 || 0s)\n",
    "    padded_plaintext = int((plaintext[blocks:] + c_padding).hex(), 16)\n",
    "    S[0] ^= padded_plaintext\n",
    "\n",
    "    return plaintext\n",
    "\n"
   ]
  },
  {
   "cell_type": "markdown",
   "metadata": {},
   "source": [
    "### This function ascon_process_ciphertext is responsible for processing the ciphertext in the Ascon encryption algorithm. Here's a breakdown of the code:\n",
    "\n",
    "- The function starts by padding the ciphertext to ensure its length is a multiple of the rate. Similar to plaintext padding, this is done by appending a byte with hexadecimal value 0x80 (binary 10000000), followed by zero bytes to fill the block.\n",
    "\n",
    "- The length of the last block in the ciphertext (before padding) is calculated to determine the padding required.\n",
    "\n",
    "- The number of zero bytes needed for padding is calculated to ensure that the total length becomes a multiple of the rate.\n",
    "\n",
    "- The function then processes the ciphertext blocks by XORing them with the state array S and squeezing the result into the plaintext. This process iterates over all blocks except the last one.\n",
    "\n",
    "- Each block of ciphertext is XORed with the state and added to the plaintext.\n",
    "\n",
    "- Finally, the last block of ciphertext is processed similarly to previous blocks, and the resulting plaintext is appended.\n",
    "\n",
    "- The function then updates the state with the last block of ciphertext and calculates the XOR with the padded plaintext to update the rate."
   ]
  },
  {
   "cell_type": "code",
   "execution_count": 7,
   "metadata": {
    "id": "55S8whmO6Q-C"
   },
   "outputs": [],
   "source": [
    "### ============================================================================== ###\n",
    "\n",
    "def ascon_finalize(S, a, key):\n",
    "    assert(len(key)) == 16\n",
    "\n",
    "    # == step 1 == #\n",
    "    # key is padded with 8 bytes of 0s before it & 16 bytes of 0s after it (0*8 || K || 0*16),\n",
    "    # then it's xored with the state\n",
    "    # since, only the 2nd & 3rd raw of the state will take effect, we only xor them without implementing the padding step\n",
    "    S[1] ^= int(key[:8].hex(), 16)\n",
    "    S[2] ^= int(key[8:].hex(), 16)\n",
    "\n",
    "    ascon_permutation(S, a)\n",
    "\n",
    "    # == step 2 ==#\n",
    "    # 4th & 5th raws of the state are xored with the key, and the result will be the tag\n",
    "    S[3] ^= int(key[:8].hex(), 16)\n",
    "    S[4] ^= int(key[8:].hex(), 16)\n",
    "    tag = (S[3].to_bytes(8, 'big') + S[4].to_bytes(8, 'big'))\n",
    "\n",
    "    return tag\n",
    "\n"
   ]
  },
  {
   "cell_type": "markdown",
   "metadata": {},
   "source": [
    "### This function ascon_finalize is responsible for finalizing the Ascon encryption process by generating the authentication tag. Here's a breakdown of the code:\n",
    "\n",
    "- The function starts by ensuring that the length of the key is 16 bytes (128 bits) as required for Ascon encryption.\n",
    "\n",
    "- Then, it pads the key with 8 bytes of zero before it and 16 bytes of zero after it to make a total of 40 bytes (320 bits). This padded key is XORed with the state array S, specifically with the 2nd and 3rd rows of the state.\n",
    "\n",
    "- After XORing the key with the state, the function performs the initial permutation of the state using the ascon_permutation function.\n",
    "\n",
    "- Next, the function XORs the 4th and 5th rows of the state with the key. The resulting values from these XOR operations constitute the authentication tag.\n",
    "\n",
    "- Finally, the function returns the tag, which consists of the 4th and 5th rows of the state converted to bytes and concatenated together. This tag serves as a means of verifying the integrity and authenticity of the encrypted data."
   ]
  },
  {
   "cell_type": "code",
   "execution_count": 8,
   "metadata": {
    "id": "t6mL_4Vn8PaV"
   },
   "outputs": [],
   "source": [
    "### ============================================================================== ###\n",
    "# === ascon permutation === #\n",
    "\n",
    "def ascon_permutation(S, rounds):\n",
    "    assert(rounds <= 12)\n",
    "\n",
    "    for r in range(12-rounds, 12):\n",
    "        # --- step 1: add round constants --- #\n",
    "        S[2] ^= (0xf0 - r*0x10 + r*0x1)\n",
    "\n",
    "        # --- step 2: substitution layer --- #\n",
    "        # see sbox instructions at: https://ascon.iaik.tugraz.at/images/sbox_instructions.c\n",
    "        S[0] ^= S[4]\n",
    "        S[4] ^= S[3]\n",
    "        S[2] ^= S[1]\n",
    "\n",
    "        # this line summarizes the NOR & ANDing operations for all raws\n",
    "        T = [(S[i] ^ 0xFFFFFFFFFFFFFFFF) & S[(i+1)%5] for i in range(5)]\n",
    "\n",
    "        for i in range(5):\n",
    "            S[i] ^= T[(i+1)%5]\n",
    "        S[1] ^= S[0]\n",
    "        S[0] ^= S[4]\n",
    "        S[3] ^= S[2]\n",
    "        S[2] ^= 0XFFFFFFFFFFFFFFFF # XORing with 1s = NOT operation\n",
    "\n",
    "        # --- step 3: linear diffusion layer --- #\n",
    "        S[0] ^= rotr(S[0], 19) ^ rotr(S[0], 28)\n",
    "        S[1] ^= rotr(S[1], 61) ^ rotr(S[1], 39)\n",
    "        S[2] ^= rotr(S[2],  1) ^ rotr(S[2],  6)\n",
    "        S[3] ^= rotr(S[3], 10) ^ rotr(S[3], 17)\n",
    "        S[4] ^= rotr(S[4],  7) ^ rotr(S[4], 41)\n",
    "\n"
   ]
  },
  {
   "cell_type": "markdown",
   "metadata": {},
   "source": [
    "### This function ascon_permutation implements the permutation step of the Ascon encryption algorithm. It consists of three main steps: adding round constants, a substitution layer, and a linear diffusion layer. Here's a detailed explanation of each step:\n",
    "\n",
    "- **Step 1 (Add Round Constants):** In this step, round constants are added to the 3rd row of the state array S. These constants are derived based on the current round number r. The specific calculation (0xf0 - r*0x10 + r*0x1) generates round constants for each round.\n",
    "\n",
    "- **Step 2 (Substitution Layer):** This step involves several bitwise operations and XOR operations to achieve a nonlinear mixing of the state. Each row of the state is modified based on the values of other rows.\n",
    "\n",
    "- **Step 3 (Linear Diffusion Layer):** This step introduces diffusion by applying a series of bitwise rotations (rotations to the right) on each row of the state. Different rotation constants are applied to different rows."
   ]
  },
  {
   "cell_type": "code",
   "execution_count": 9,
   "metadata": {
    "id": "eEJFM8h68VqW"
   },
   "outputs": [],
   "source": [
    "### ============================================================================== ###\n",
    "# === helper functions === #\n",
    "\n",
    "def bytes_to_state(bytes):\n",
    "    bytes = bytes.hex()\n",
    "    return [int(bytes[16*w:16*(w+1)], 16) for w in range(5)]\n",
    "\n",
    "def rotr(val, r):\n",
    "    return (val >> r) | ((val & (1<<r)-1) << (64-r))\n",
    "\n",
    "def get_random_bytes(num):\n",
    "    from os import urandom\n",
    "    return (urandom(num))\n",
    "\n",
    "def hex_print(data):\n",
    "    for text, val in data:\n",
    "        print(\"{text}:{align}0x{val}\".format(text=text, val=val.hex(), align=(19-len(text))*\" \"))\n",
    "\n"
   ]
  },
  {
   "cell_type": "markdown",
   "metadata": {},
   "source": [
    "### let's go through each helper function:\n",
    "\n",
    "1. `bytes_to_state(bytes)`: This function converts a byte array into a state array. It first converts the byte array into a hexadecimal string using the `hex()` method. Then, it divides this string into 16-character chunks and converts each chunk into an integer using base 16 (hexadecimal). Finally, it returns a list containing these integers, forming the state array.\n",
    "\n",
    "2. `rotr(val, r)`: This function performs a right rotation (circular shift) of the value `val` by `r` bits. It achieves this by first shifting `val` to the right by `r` bits using the right shift operator `>>`. Then, it extracts the bits that were shifted out (which are `r` rightmost bits of `val`) using bitwise AND with `(1<<r)-1`. After that, it shifts these extracted bits to the left by `(64-r)` bits and combines them with the shifted `val` using bitwise OR `|`. This effectively rotates the bits of `val` to the right by `r` positions.\n",
    "\n",
    "3. `get_random_bytes(num)`: This function generates a byte array containing `num` random bytes using the `urandom()` function from the `os` module. It imports the `urandom()` function and calls it with the `num` parameter to obtain a byte array of random bytes, which it then returns.\n",
    "\n",
    "4. `hex_print(data)`: This function prints data in a formatted way, where each element of `data` is a tuple containing a text label and a corresponding byte array value. It iterates over each tuple in `data`, formatting and printing the label along with the hexadecimal representation of the byte array value. It ensures that the hexadecimal representation is prefixed with `0x` and aligns the output for better readability.\n",
    "\n",
    "These helper functions are useful for various tasks such as converting between different data representations, performing bitwise operations, generating random bytes, and printing data in a formatted manner. They provide essential functionalities that are commonly used in cryptography and other programming tasks."
   ]
  },
  {
   "cell_type": "code",
   "execution_count": 10,
   "metadata": {
    "id": "7G3Z9Tui8ZPA"
   },
   "outputs": [],
   "source": [
    "### ============================================================================== ###\n",
    "# === demo aead === #\n",
    "\n",
    "def demo_aead():\n",
    "    # demo = \"=== demo encryption/decryption using Ascon-128 ===\"\n",
    "\n",
    "    associateddata = b'I am a student'\n",
    "    plaintext = b'My name is Reetu Shrivastava'\n",
    "\n",
    "\n",
    "    key = get_random_bytes(16) # ex: b\"\\xea\\xa9\\x11\\x9a\\xa3\\xa9\\xbd^P\\xbc\\xcd\\xa4\\xe1=\\x1c\\x03\"\n",
    "    nonce = get_random_bytes(16) # ex: b\"\\x1ae'\\xa3fE\\xdd\\xb9I\\x06q\\xdc]\\x1e\\x1e\\xbb\"\n",
    "\n",
    "\n",
    "\n",
    "    ciphertext = ascon_encrypt(key, nonce, associateddata, plaintext)\n",
    "    tag = ciphertext[-16:]\n",
    "\n",
    "\n",
    "    receivedplaintext = ascon_decrypt(key, nonce, associateddata, ciphertext)\n",
    "\n",
    "    if receivedplaintext == None: print(\"verification failed!\") | exit()\n",
    "\n",
    "    # print(demo)\n",
    "    print(f\"associated data:    {associateddata}\")\n",
    "    print(f\"plaintext:          {plaintext}\")\n",
    "\n",
    "\n",
    "    hex_print([(\"key\", key),\n",
    "                (\"nonce\", nonce),\n",
    "                (\"ciphertext\", ciphertext[:-16]),\n",
    "                (\"tag\", tag),\n",
    "                ])\n",
    "\n",
    "\n",
    "\n",
    "    print(f\"received plaintext: {receivedplaintext}\")"
   ]
  },
  {
   "cell_type": "markdown",
   "metadata": {},
   "source": [
    "### This code snippet demonstrates the encryption and decryption process using the Ascon-128 algorithm. Here's an explanation of each part:\n",
    "\n",
    "1. `demo_aead()`: This function is the main entry point for the demonstration. It initializes the associated data, plaintext, key, and nonce. Then, it encrypts the plaintext using the `ascon_encrypt()` function, which returns the ciphertext along with the authentication tag. After that, it attempts to decrypt the ciphertext using the `ascon_decrypt()` function and verifies the authenticity of the received plaintext.\n",
    "\n",
    "2. `associateddata` and `plaintext`: These variables store the associated data and plaintext that will be encrypted and decrypted, respectively.\n",
    "\n",
    "3. `key` and `nonce`: These variables store the randomly generated encryption key and nonce, which are essential for the encryption and decryption process.\n",
    "\n",
    "4. `ciphertext = ascon_encrypt(key, nonce, associateddata, plaintext)`: This line encrypts the plaintext using the Ascon-128 encryption algorithm. It calls the `ascon_encrypt()` function with the encryption key, nonce, associated data, and plaintext as parameters. The function returns the ciphertext concatenated with the authentication tag.\n",
    "\n",
    "5. `tag = ciphertext[-16:]`: This line extracts the last 16 bytes from the ciphertext, which represent the authentication tag.\n",
    "\n",
    "6. `receivedplaintext = ascon_decrypt(key, nonce, associateddata, ciphertext)`: This line attempts to decrypt the ciphertext using the Ascon-128 decryption algorithm. It calls the `ascon_decrypt()` function with the encryption key, nonce, associated data, and ciphertext as parameters. If the decryption is successful and the plaintext is authentic, it returns the decrypted plaintext; otherwise, it returns `None`.\n",
    "\n",
    "7. `print(\"verification failed!\") | exit()`: This line is a logical OR operation (`|`) followed by the `exit()` function. However, it seems to have a typo because the logical OR operation `|` doesn't work as expected in this context. It should be replaced with `or` to function as a conditional check. If the received plaintext is `None`, indicating verification failure, the program exits.\n",
    "\n",
    "8. `print(f\"associated data:    {associateddata}\")`, `print(f\"plaintext:          {plaintext}\")`, `print(f\"received plaintext: {receivedplaintext}\")`: These lines print out the associated data, plaintext, and received plaintext, respectively, for demonstration purposes.\n",
    "\n",
    "9. `hex_print([...])`: This line prints out various information in a formatted way, including the encryption key, nonce, ciphertext (excluding the tag), and authentication tag.\n",
    "\n",
    "Overall, this code snippet demonstrates the encryption and decryption process using Ascon-128 and verifies the authenticity of the decrypted plaintext."
   ]
  },
  {
   "cell_type": "code",
   "execution_count": 11,
   "metadata": {
    "colab": {
     "base_uri": "https://localhost:8080/"
    },
    "id": "6B17Fo1W8dDz",
    "outputId": "da877f8e-07e3-4bc1-eae3-40cbed9f2828"
   },
   "outputs": [
    {
     "name": "stdout",
     "output_type": "stream",
     "text": [
      "associated data:    b'I am a student'\n",
      "plaintext:          b'My name is Reetu Shrivastava'\n",
      "key:                0xc873926c5900c9be0f356116c3c37bcf\n",
      "nonce:              0xd20d0bad0bca85ef5192f84918d827e4\n",
      "ciphertext:         0xa4c181d6daaecada821ffeb5ff2b80d008cdc55dbfcc282b65acf514\n",
      "tag:                0x2e039e32de518fa771e6c03828e27222\n",
      "received plaintext: b'My name is Reetu Shrivastava'\n"
     ]
    }
   ],
   "source": [
    "### ============================================================================== ###\n",
    "# === demo test === #\n",
    "if __name__ == \"__main__\":\n",
    "    demo_aead()"
   ]
  },
  {
   "cell_type": "code",
   "execution_count": 12,
   "metadata": {
    "colab": {
     "base_uri": "https://localhost:8080/"
    },
    "id": "N3hF0RZG8dmb",
    "outputId": "f71eb052-9116-424e-816d-67bd75f5865b"
   },
   "outputs": [
    {
     "name": "stdout",
     "output_type": "stream",
     "text": [
      "\n",
      " b'I am a student' \n",
      " b'My name is Reetu Shrivastava'\n",
      "\n",
      "Ciphertext:\t b'\\xa1E\\xff\\xb4H\\xdc`\\xd7G<_\\xba\\x8d(zw(DD:7imsD+\\xfaUQ /^\\xd5\\x03O\\xd1s\\xf9\\xb2?\\x1f\\xd6\\x85J'\n",
      "\n",
      " b'My name is Reetu Shrivastava'\n",
      "Encryption and decryption successful!\n"
     ]
    }
   ],
   "source": [
    "def test_ascon_cipher():\n",
    "    # Test parameters\n",
    "    key = get_random_bytes(16)\n",
    "    nonce = get_random_bytes(16)\n",
    "    associateddata = b'I am a student'\n",
    "    plaintext = b'My name is Reetu Shrivastava'\n",
    "    print(\"\\n\",associateddata,\"\\n\",plaintext)\n",
    "\n",
    "    # Encrypt\n",
    "    ciphertext = ascon_encrypt(key, nonce, associateddata, plaintext)\n",
    "    print(\"\\nCiphertext:\\t\",ciphertext)\n",
    "\n",
    "    # Decrypt\n",
    "    decrypted_plaintext = ascon_decrypt(key, nonce, associateddata, ciphertext)\n",
    "    print(\"\\n\",decrypted_plaintext)\n",
    "\n",
    "    # Verify correctness\n",
    "    assert decrypted_plaintext == plaintext, \"Encryption and decryption failed!\"\n",
    "\n",
    "    print(\"Encryption and decryption successful!\")\n",
    "\n",
    "\n",
    "if __name__ == \"__main__\":\n",
    "    test_ascon_cipher()\n"
   ]
  },
  {
   "cell_type": "markdown",
   "metadata": {},
   "source": [
    "### This code defines a function `test_ascon_cipher()` which tests the encryption and decryption functionalities of the Ascon-128 algorithm. Here's an explanation of each part:\n",
    "\n",
    "- `test_ascon_cipher()`: This function is designed to test the encryption and decryption process using Ascon-128. It sets up test parameters including a random encryption key, a random nonce, associated data, and plaintext.\n",
    "\n",
    "- `key`, `nonce`, `associateddata`, `plaintext`: These variables store the test parameters. The key and nonce are generated randomly using the `get_random_bytes()` function, while the associated data and plaintext are predefined.\n",
    "\n",
    "- `print(\"\\n\",associateddata,\"\\n\",plaintext)`: This line prints out the associated data and plaintext for demonstration purposes.\n",
    "\n",
    "- `ciphertext = ascon_encrypt(key, nonce, associateddata, plaintext)`: This line encrypts the plaintext using the Ascon-128 encryption algorithm. It calls the `ascon_encrypt()` function with the encryption key, nonce, associated data, and plaintext as parameters, resulting in the ciphertext.\n",
    "\n",
    "- `print(\"\\nCiphertext:\\t\",ciphertext)`: This line prints out the generated ciphertext.\n",
    "\n",
    "- `decrypted_plaintext = ascon_decrypt(key, nonce, associateddata, ciphertext)`: This line attempts to decrypt the ciphertext using the Ascon-128 decryption algorithm. It calls the `ascon_decrypt()` function with the encryption key, nonce, associated data, and ciphertext as parameters, resulting in the decrypted plaintext.\n",
    "\n",
    "- `print(\"\\n\",decrypted_plaintext)`: This line prints out the decrypted plaintext.\n",
    "\n",
    "- `assert decrypted_plaintext == plaintext, \"Encryption and decryption failed!\"`: This line asserts that the decrypted plaintext matches the original plaintext. If the assertion fails, it indicates that the encryption and decryption process did not produce the expected result.\n",
    "\n",
    "- `print(\"Encryption and decryption successful!\")`: If the encryption and decryption process is successful, this line prints out a success message.\n",
    "\n",
    "- `if __name__ == \"__main__\":`: This conditional statement ensures that the `test_ascon_cipher()` function is executed only if the script is run directly, not if it is imported as a module into another script.\n",
    "\n",
    "Overall, this code snippet tests the encryption and decryption functionalities of the Ascon-128 algorithm with predefined test parameters and verifies the correctness of the process."
   ]
  },
  {
   "cell_type": "code",
   "execution_count": 13,
   "metadata": {
    "colab": {
     "base_uri": "https://localhost:8080/"
    },
    "id": "TOJphGWMKECa",
    "outputId": "3ad148e3-cfc7-4b34-d3d7-dd5e3ebfe90b"
   },
   "outputs": [
    {
     "name": "stdout",
     "output_type": "stream",
     "text": [
      "Decryption successful. Proof of correctness passed.\n"
     ]
    },
    {
     "data": {
      "text/plain": [
       "True"
      ]
     },
     "execution_count": 13,
     "metadata": {},
     "output_type": "execute_result"
    }
   ],
   "source": [
    "def proof_of_correctness():\n",
    "    # Generate random key, nonce, associated data, and plaintext\n",
    "    key = get_random_bytes(16)\n",
    "    nonce = get_random_bytes(16)\n",
    "    associateddata = get_random_bytes(16)\n",
    "    plaintext = get_random_bytes(32)\n",
    "\n",
    "    # Encrypt the plaintext\n",
    "    ciphertext = ascon_encrypt(key, nonce, associateddata, plaintext)\n",
    "\n",
    "    # Decrypt the ciphertext\n",
    "    decrypted_plaintext = ascon_decrypt(key, nonce, associateddata, ciphertext)\n",
    "\n",
    "    # Check if decryption was successful and plaintext matches the original plaintext\n",
    "    if decrypted_plaintext is None:\n",
    "        print(\"Decryption failed. Proof of correctness failed.\")\n",
    "        return False\n",
    "    elif decrypted_plaintext == plaintext:\n",
    "        print(\"Decryption successful. Proof of correctness passed.\")\n",
    "        return True\n",
    "    else:\n",
    "        print(\"Decrypted plaintext does not match original plaintext. Proof of correctness failed.\")\n",
    "        return False\n",
    "\n",
    "# Perform proof of correctness\n",
    "proof_of_correctness()\n"
   ]
  },
  {
   "cell_type": "markdown",
   "metadata": {
    "id": "0ytS4ZPnKoK7"
   },
   "source": [
    "### This code defines a function `proof_of_correctness()` that aims to demonstrate the correctness of the Ascon-128 encryption and decryption algorithms. Here's how the function works:\n",
    "\n",
    "-  `key`, `nonce`, `associateddata`, `plaintext`: These variables are generated randomly to represent the key, nonce, associated data, and plaintext.\n",
    "\n",
    "- `ciphertext = ascon_encrypt(key, nonce, associateddata, plaintext)`: The function encrypts the plaintext using Ascon-128 encryption algorithm with the randomly generated key, nonce, and associated data. The result is the ciphertext.\n",
    "\n",
    "- `decrypted_plaintext = ascon_decrypt(key, nonce, associateddata, ciphertext)`: The function then attempts to decrypt the generated ciphertext using Ascon-128 decryption algorithm with the same key, nonce, and associated data used for encryption.\n",
    "\n",
    "- The function checks whether the decryption was successful and whether the decrypted plaintext matches the original plaintext.\n",
    "\n",
    "   - If decryption fails (i.e., the `ascon_decrypt` function returns `None`), it prints \"Decryption failed. Proof of correctness failed.\" and returns `False`.\n",
    "   \n",
    "   - If the decrypted plaintext matches the original plaintext, it prints \"Decryption successful. Proof of correctness passed.\" and returns `True`.\n",
    "   \n",
    "   - If the decrypted plaintext does not match the original plaintext, it prints \"Decrypted plaintext does not match original plaintext. Proof of correctness failed.\" and returns `False`.\n",
    "\n",
    "5. `proof_of_correctness()`: This line calls the `proof_of_correctness()` function to perform the proof of correctness test.\n"
   ]
  },
  {
   "cell_type": "code",
   "execution_count": null,
   "metadata": {},
   "outputs": [],
   "source": []
  }
 ],
 "metadata": {
  "colab": {
   "provenance": []
  },
  "kernelspec": {
   "display_name": "Python 3 (ipykernel)",
   "language": "python",
   "name": "python3"
  },
  "language_info": {
   "codemirror_mode": {
    "name": "ipython",
    "version": 3
   },
   "file_extension": ".py",
   "mimetype": "text/x-python",
   "name": "python",
   "nbconvert_exporter": "python",
   "pygments_lexer": "ipython3",
   "version": "3.9.18"
  }
 },
 "nbformat": 4,
 "nbformat_minor": 1
}
