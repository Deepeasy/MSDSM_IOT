{
 "cells": [
  {
   "cell_type": "markdown",
   "metadata": {
    "id": "5PWsZYaHco1q"
   },
   "source": [
    "a shorter end version of the code is given below It involves the following steps:\n",
    "\n",
    "Step 1: Generate a random Initialization Vector (IV)\n",
    "\n",
    "Step 2: Generate a random AES key with a valid length\n",
    "\n",
    "Step 3: Create an AES cipher object\n",
    "\n",
    "Step 4: Encrypt a message\n",
    "\n",
    "Step 5: Decrypt the ciphertext\n",
    "\n",
    "Step 6: Print the results"
   ]
  },
  {
   "cell_type": "code",
   "execution_count": 4,
   "metadata": {
    "colab": {
     "base_uri": "https://localhost:8080/"
    },
    "id": "jNCpSklycsGp",
    "outputId": "03deae7a-9d6a-407c-c4aa-a3b865d87c61"
   },
   "outputs": [
    {
     "name": "stdout",
     "output_type": "stream",
     "text": [
      "Original Message: b'Hello, I m Deep!'\n",
      "Encrypted Message: b'\\xa8}\\x1f\\x0e<\\xee\\xcdi\\x9e\\xca\\x86\\x97 \\x7f\\x10R'\n",
      "Decrypted Message: b'Hello, I m Deep!'\n"
     ]
    }
   ],
   "source": [
    "\n",
    "from Crypto.Cipher import AES\n",
    "from Crypto.Random import get_random_bytes\n",
    "\n",
    "# Step 1: Generate a random Initialization Vector (IV)\n",
    "iv = get_random_bytes(16)  # IV size for AES is typically 16 bytes\n",
    "\n",
    "# Step 2: Generate a random AES key with a valid length\n",
    "key = get_random_bytes(16)  # 16 bytes for AES-128, change to 24 or 32 for AES-192 or AES-256\n",
    "\n",
    "# Step 3: Create an AES cipher object\n",
    "cipher = AES.new(key, AES.MODE_CBC, iv)\n",
    "\n",
    "# Step 4: Encrypt a message\n",
    "message = b'Hello, I m Deep!'\n",
    "ciphertext = cipher.encrypt(message)\n",
    "\n",
    "# Step 5: Decrypt the ciphertext\n",
    "decrypt_cipher = AES.new(key, AES.MODE_CBC, iv)\n",
    "decrypted_message = decrypt_cipher.decrypt(ciphertext)\n",
    "\n",
    "# Step 6: Print the results\n",
    "print(\"Original Message:\", message)\n",
    "print(\"Encrypted Message:\", ciphertext)\n",
    "print(\"Decrypted Message:\", decrypted_message)"
   ]
  },
  {
   "cell_type": "code",
   "execution_count": 3,
   "metadata": {
    "colab": {
     "base_uri": "https://localhost:8080/"
    },
    "id": "9ey8FcUvdcFr",
    "outputId": "3bd24179-f260-4e30-e4b1-4b8f2fe0449c"
   },
   "outputs": [
    {
     "name": "stdout",
     "output_type": "stream",
     "text": [
      "Collecting pycryptodome\n",
      "  Downloading pycryptodome-3.20.0-cp35-abi3-manylinux_2_17_x86_64.manylinux2014_x86_64.whl (2.1 MB)\n",
      "\u001b[2K     \u001b[90m━━━━━━━━━━━━━━━━━━━━━━━━━━━━━━━━━━━━━━━━\u001b[0m \u001b[32m2.1/2.1 MB\u001b[0m \u001b[31m14.8 MB/s\u001b[0m eta \u001b[36m0:00:00\u001b[0m\n",
      "\u001b[?25hInstalling collected packages: pycryptodome\n",
      "Successfully installed pycryptodome-3.20.0\n"
     ]
    }
   ],
   "source": [
    "pip install pycryptodome"
   ]
  },
  {
   "cell_type": "markdown",
   "metadata": {
    "id": "mNb2jXsIcxUx"
   },
   "source": [
    "A list of minor subfunctions used continuously are given below"
   ]
  },
  {
   "cell_type": "code",
   "execution_count": 5,
   "metadata": {
    "id": "c4itOSRXdCtJ"
   },
   "outputs": [],
   "source": [
    "\n",
    "def get_random_bytes(num):\n",
    "    import os\n",
    "    return to_bytes(os.urandom(num))\n",
    "\n",
    "def zero_bytes(n):\n",
    "    return n * b\"\\x00\"\n",
    "\n",
    "def to_bytes(l): # where l is a list or bytearray or bytes\n",
    "    return bytes(bytearray(l))\n",
    "\n",
    "def bytes_to_int(bytes):\n",
    "    return sum([bi << ((len(bytes) - 1 - i)*8) for i, bi in enumerate(to_bytes(bytes))])\n",
    "\n",
    "def bytes_to_state(bytes):\n",
    "    return [bytes_to_int(bytes[8*w:8*(w+1)]) for w in range(5)]\n",
    "\n",
    "def int_to_bytes(integer, nbytes):\n",
    "    return to_bytes([(integer >> ((nbytes - 1 - i) * 8)) % 256 for i in range(nbytes)])\n",
    "\n",
    "def rotr(val, r):\n",
    "    return (val >> r) | ((val & (1<<r)-1) << (64-r))\n",
    "\n",
    "def bytes_to_hex(b):\n",
    "    return b.hex()\n",
    "    #return \"\".join(x.encode('hex') for x in b)\n",
    "\n",
    "def printstate(S, description=\"\"):\n",
    "    print(\" \" + description)\n",
    "    print(\" \".join([\"{s:016x}\".format(s=s) for s in S]))\n",
    "\n",
    "def printwords(S, description=\"\"):\n",
    "    print(\" \" + description)\n",
    "    print(\"\\n\".join([\"  x{i}={s:016x}\".format(**locals()) for i, s in enumerate(S)]))\n",
    "\n",
    "\n",
    "# === some demo if called directly ===\n",
    "\n",
    "def demo_print(data):\n",
    "    maxlen = max([len(text) for (text, val) in data])\n",
    "    for text, val in data:\n",
    "        print(\"{text}:{align} 0x{val} ({length} bytes)\".format(text=text, align=((maxlen - len(text)) * \" \"), val=bytes_to_hex(val), length=len(val)))"
   ]
  },
  {
   "cell_type": "markdown",
   "metadata": {
    "id": "5nsc10Mbdtu6"
   },
   "source": [
    " Alist of variables are defined below"
   ]
  },
  {
   "cell_type": "code",
   "execution_count": 18,
   "metadata": {
    "id": "Z0rts9zZd0CR"
   },
   "outputs": [],
   "source": [
    "S = [0, 0, 0, 0, 0]\n",
    "k = len(key) * 8 # bits\n",
    "a = 12 # rounds\n",
    "variant=\"Ascon-128\"\n",
    "b = 8 if variant == \"Ascon-128a\" else 6   # rounds\n",
    "rate = 16 if variant == \"Ascon-128a\" else 8   # bytes\n",
    "debug = False\n",
    "debugpermutation = False\n",
    "keysize = 16\n",
    "key   = get_random_bytes(keysize) # zero_bytes(keysize)\n",
    "nonce = get_random_bytes(16)      # zero_bytes(16)\n",
    "associateddata = b\"ASCON\"\n",
    "plaintext = message"
   ]
  },
  {
   "cell_type": "markdown",
   "metadata": {
    "id": "sKXyShQMfL_Y"
   },
   "source": [
    "Deine the initialization function"
   ]
  },
  {
   "cell_type": "code",
   "execution_count": 8,
   "metadata": {
    "id": "ClqpnPN6fGry"
   },
   "outputs": [],
   "source": [
    "def ascon_initialize(S, k, rate, a, b, key, nonce):\n",
    "    iv_zero_key_nonce = to_bytes([k, rate * 8, a, b]) + zero_bytes(20-len(key)) + key + nonce\n",
    "    S[0], S[1], S[2], S[3], S[4] = bytes_to_state(iv_zero_key_nonce)\n",
    "    if debug: printstate(S, \"initial value:\")\n",
    "\n",
    "    ascon_permutation(S, a)\n",
    "\n",
    "    zero_key = bytes_to_state(zero_bytes(40-len(key)) + key)\n",
    "    S[0] ^= zero_key[0]\n",
    "    S[1] ^= zero_key[1]\n",
    "    S[2] ^= zero_key[2]\n",
    "    S[3] ^= zero_key[3]\n",
    "    S[4] ^= zero_key[4]\n",
    "    if debug: printstate(S, \"initialization:\")\n"
   ]
  },
  {
   "cell_type": "markdown",
   "metadata": {
    "id": "lWXB2a-tfSVR"
   },
   "source": [
    "Define Process assciated data"
   ]
  },
  {
   "cell_type": "code",
   "execution_count": 9,
   "metadata": {
    "id": "bc3dmQDEfYxg"
   },
   "outputs": [],
   "source": [
    "def ascon_process_associated_data(S, b, rate, associateddata):\n",
    "    if len(associateddata) > 0:\n",
    "        a_padding = to_bytes([0x80]) + zero_bytes(rate - (len(associateddata) % rate) - 1)\n",
    "        a_padded = associateddata + a_padding\n",
    "\n",
    "        for block in range(0, len(a_padded), rate):\n",
    "            S[0] ^= bytes_to_int(a_padded[block:block+8])\n",
    "            if rate == 16:\n",
    "                S[1] ^= bytes_to_int(a_padded[block+8:block+16])\n",
    "\n",
    "            ascon_permutation(S, b)\n",
    "\n",
    "    S[4] ^= 1\n",
    "    if debug: printstate(S, \"process associated data:\")"
   ]
  },
  {
   "cell_type": "markdown",
   "metadata": {
    "id": "m8zrBHhFfcp2"
   },
   "source": [
    "Define Process Asscoicated data"
   ]
  },
  {
   "cell_type": "code",
   "execution_count": 10,
   "metadata": {
    "id": "wTyg9UFyfimO"
   },
   "outputs": [],
   "source": [
    "def ascon_process_plaintext(S, b, rate, plaintext):\n",
    "    p_lastlen = len(plaintext) % rate\n",
    "    p_padding = to_bytes([0x80]) + zero_bytes(rate-p_lastlen-1)\n",
    "    p_padded = plaintext + p_padding\n",
    "\n",
    "    # first t-1 blocks\n",
    "    ciphertext = to_bytes([])\n",
    "    for block in range(0, len(p_padded) - rate, rate):\n",
    "        if rate == 8:\n",
    "            S[0] ^= bytes_to_int(p_padded[block:block+8])\n",
    "            ciphertext += int_to_bytes(S[0], 8)\n",
    "        elif rate == 16:\n",
    "            S[0] ^= bytes_to_int(p_padded[block:block+8])\n",
    "            S[1] ^= bytes_to_int(p_padded[block+8:block+16])\n",
    "            ciphertext += (int_to_bytes(S[0], 8) + int_to_bytes(S[1], 8))\n",
    "\n",
    "        ascon_permutation(S, b)\n",
    "\n",
    "    # last block t\n",
    "    block = len(p_padded) - rate\n",
    "    if rate == 8:\n",
    "        S[0] ^= bytes_to_int(p_padded[block:block+8])\n",
    "        ciphertext += int_to_bytes(S[0], 8)[:p_lastlen]\n",
    "    elif rate == 16:\n",
    "        S[0] ^= bytes_to_int(p_padded[block:block+8])\n",
    "        S[1] ^= bytes_to_int(p_padded[block+8:block+16])\n",
    "        ciphertext += (int_to_bytes(S[0], 8)[:min(8,p_lastlen)] + int_to_bytes(S[1], 8)[:max(0,p_lastlen-8)])\n",
    "    if debug: printstate(S, \"process plaintext:\")\n",
    "    return ciphertext"
   ]
  },
  {
   "cell_type": "markdown",
   "metadata": {
    "id": "k3Z263D8fkiP"
   },
   "source": [
    "Deine Process Ciphertext"
   ]
  },
  {
   "cell_type": "code",
   "execution_count": 11,
   "metadata": {
    "id": "KeWycKmmfz06"
   },
   "outputs": [],
   "source": [
    "def ascon_process_ciphertext(S, b, rate, ciphertext):\n",
    "    c_lastlen = len(ciphertext) % rate\n",
    "    c_padded = ciphertext + zero_bytes(rate - c_lastlen)\n",
    "\n",
    "    # first t-1 blocks\n",
    "    plaintext = to_bytes([])\n",
    "    for block in range(0, len(c_padded) - rate, rate):\n",
    "        if rate == 8:\n",
    "            Ci = bytes_to_int(c_padded[block:block+8])\n",
    "            plaintext += int_to_bytes(S[0] ^ Ci, 8)\n",
    "            S[0] = Ci\n",
    "        elif rate == 16:\n",
    "            Ci = (bytes_to_int(c_padded[block:block+8]), bytes_to_int(c_padded[block+8:block+16]))\n",
    "            plaintext += (int_to_bytes(S[0] ^ Ci[0], 8) + int_to_bytes(S[1] ^ Ci[1], 8))\n",
    "            S[0] = Ci[0]\n",
    "            S[1] = Ci[1]\n",
    "\n",
    "        ascon_permutation(S, b)\n",
    "\n",
    "    # last block t\n",
    "    block = len(c_padded) - rate\n",
    "    if rate == 8:\n",
    "        c_padding1 = (0x80 << (rate-c_lastlen-1)*8)\n",
    "        c_mask = (0xFFFFFFFFFFFFFFFF >> (c_lastlen*8))\n",
    "        Ci = bytes_to_int(c_padded[block:block+8])\n",
    "        plaintext += int_to_bytes(Ci ^ S[0], 8)[:c_lastlen]\n",
    "        S[0] = Ci ^ (S[0] & c_mask) ^ c_padding1\n",
    "    elif rate == 16:\n",
    "        c_lastlen_word = c_lastlen % 8\n",
    "        c_padding1 = (0x80 << (8-c_lastlen_word-1)*8)\n",
    "        c_mask = (0xFFFFFFFFFFFFFFFF >> (c_lastlen_word*8))\n",
    "        Ci = (bytes_to_int(c_padded[block:block+8]), bytes_to_int(c_padded[block+8:block+16]))\n",
    "        plaintext += (int_to_bytes(S[0] ^ Ci[0], 8) + int_to_bytes(S[1] ^ Ci[1], 8))[:c_lastlen]\n",
    "        if c_lastlen < 8:\n",
    "            S[0] = Ci[0] ^ (S[0] & c_mask) ^ c_padding1\n",
    "        else:\n",
    "            S[0] = Ci[0]\n",
    "            S[1] = Ci[1] ^ (S[1] & c_mask) ^ c_padding1\n",
    "    if debug: printstate(S, \"process ciphertext:\")\n",
    "    return plaintext"
   ]
  },
  {
   "cell_type": "markdown",
   "metadata": {
    "id": "IVp77po6f7q0"
   },
   "source": [
    "Define Process Finalize"
   ]
  },
  {
   "cell_type": "code",
   "execution_count": 12,
   "metadata": {
    "id": "6-YW7NzGf8GM"
   },
   "outputs": [],
   "source": [
    "def ascon_finalize(S, rate, a, key):\n",
    "    assert(len(key) in [16,20])\n",
    "    S[rate//8+0] ^= bytes_to_int(key[0:8])\n",
    "    S[rate//8+1] ^= bytes_to_int(key[8:16])\n",
    "    S[rate//8+2] ^= bytes_to_int(key[16:] + zero_bytes(24-len(key)))\n",
    "\n",
    "    ascon_permutation(S, a)\n",
    "\n",
    "    S[3] ^= bytes_to_int(key[-16:-8])\n",
    "    S[4] ^= bytes_to_int(key[-8:])\n",
    "    tag = int_to_bytes(S[3], 8) + int_to_bytes(S[4], 8)\n",
    "    if debug: printstate(S, \"finalization:\")\n",
    "    return tag"
   ]
  },
  {
   "cell_type": "markdown",
   "metadata": {
    "id": "zwcCHRNTgKTx"
   },
   "source": [
    "Define Ascon Permutation Function"
   ]
  },
  {
   "cell_type": "code",
   "execution_count": 13,
   "metadata": {
    "id": "HDKFKF0dgP4x"
   },
   "outputs": [],
   "source": [
    "def ascon_permutation(S, rounds=1):\n",
    "    assert(rounds <= 12)\n",
    "    if debugpermutation: printwords(S, \"permutation input:\")\n",
    "    for r in range(12-rounds, 12):\n",
    "        # --- add round constants ---\n",
    "        S[2] ^= (0xf0 - r*0x10 + r*0x1)\n",
    "        if debugpermutation: printwords(S, \"round constant addition:\")\n",
    "        # --- substitution layer ---\n",
    "        S[0] ^= S[4]\n",
    "        S[4] ^= S[3]\n",
    "        S[2] ^= S[1]\n",
    "        T = [(S[i] ^ 0xFFFFFFFFFFFFFFFF) & S[(i+1)%5] for i in range(5)]\n",
    "        for i in range(5):\n",
    "            S[i] ^= T[(i+1)%5]\n",
    "        S[1] ^= S[0]\n",
    "        S[0] ^= S[4]\n",
    "        S[3] ^= S[2]\n",
    "        S[2] ^= 0XFFFFFFFFFFFFFFFF\n",
    "        if debugpermutation: printwords(S, \"substitution layer:\")\n",
    "        # --- linear diffusion layer ---\n",
    "        S[0] ^= rotr(S[0], 19) ^ rotr(S[0], 28)\n",
    "        S[1] ^= rotr(S[1], 61) ^ rotr(S[1], 39)\n",
    "        S[2] ^= rotr(S[2],  1) ^ rotr(S[2],  6)\n",
    "        S[3] ^= rotr(S[3], 10) ^ rotr(S[3], 17)\n",
    "        S[4] ^= rotr(S[4],  7) ^ rotr(S[4], 41)\n",
    "        if debugpermutation: printwords(S, \"linear diffusion layer:\")"
   ]
  },
  {
   "cell_type": "markdown",
   "metadata": {
    "id": "9b8afWfMgUAB"
   },
   "source": [
    "AES Encryption Function"
   ]
  },
  {
   "cell_type": "code",
   "execution_count": 14,
   "metadata": {
    "id": "tEdsqpHXgXNk"
   },
   "outputs": [],
   "source": [
    "def ascon_encrypt(key, nonce, associateddata, plaintext, variant=\"Ascon-128\"):\n",
    "    assert variant in [\"Ascon-128\", \"Ascon-128a\", \"Ascon-80pq\"]\n",
    "    if variant in [\"Ascon-128\", \"Ascon-128a\"]: assert(len(key) == 16 and len(nonce) == 16)\n",
    "    if variant == \"Ascon-80pq\": assert(len(key) == 20 and len(nonce) == 16)\n",
    "    S = [0, 0, 0, 0, 0]\n",
    "    k = len(key) * 8   # bits\n",
    "    a = 12   # rounds\n",
    "    b = 8 if variant == \"Ascon-128a\" else 6   # rounds\n",
    "    rate = 16 if variant == \"Ascon-128a\" else 8   # bytes\n",
    "\n",
    "    ascon_initialize(S, k, rate, a, b, key, nonce)\n",
    "    ascon_process_associated_data(S, b, rate, associateddata)\n",
    "    ciphertext = ascon_process_plaintext(S, b, rate, plaintext)\n",
    "    tag = ascon_finalize(S, rate, a, key)\n",
    "    return ciphertext + tag"
   ]
  },
  {
   "cell_type": "markdown",
   "metadata": {
    "id": "k3USQlJvgZcK"
   },
   "source": [
    "AES Decryption function"
   ]
  },
  {
   "cell_type": "code",
   "execution_count": 15,
   "metadata": {
    "id": "Vi0ZhjHwgbpC"
   },
   "outputs": [],
   "source": [
    "def ascon_decrypt(key, nonce, associateddata, ciphertext, variant=\"Ascon-128\"):\n",
    "    assert variant in [\"Ascon-128\", \"Ascon-128a\", \"Ascon-80pq\"]\n",
    "    if variant in [\"Ascon-128\", \"Ascon-128a\"]: assert(len(key) == 16 and len(nonce) == 16 and len(ciphertext) >= 16)\n",
    "    if variant == \"Ascon-80pq\": assert(len(key) == 20 and len(nonce) == 16 and len(ciphertext) >= 16)\n",
    "    S = [0, 0, 0, 0, 0]\n",
    "    k = len(key) * 8 # bits\n",
    "    a = 12 # rounds\n",
    "    b = 8 if variant == \"Ascon-128a\" else 6   # rounds\n",
    "    rate = 16 if variant == \"Ascon-128a\" else 8   # bytes\n",
    "\n",
    "    ascon_initialize(S, k, rate, a, b, key, nonce)\n",
    "    ascon_process_associated_data(S, b, rate, associateddata)\n",
    "    plaintext = ascon_process_ciphertext(S, b, rate, ciphertext[:-16])\n",
    "    tag = ascon_finalize(S, rate, a, key)\n",
    "    if tag == ciphertext[-16:]:\n",
    "        return plaintext\n",
    "    else:\n",
    "        return None"
   ]
  },
  {
   "cell_type": "markdown",
   "metadata": {
    "id": "sFi5SZzfhK3a"
   },
   "source": [
    "We choose the Ascon Encryption function"
   ]
  },
  {
   "cell_type": "code",
   "execution_count": 16,
   "metadata": {
    "id": "Vfvr7TWmh4Hi"
   },
   "outputs": [],
   "source": [
    "def demo_aead(variant):\n",
    "    assert variant in [\"Ascon-128\", \"Ascon-128a\", \"Ascon-80pq\"]\n",
    "    keysize = 20 if variant == \"Ascon-80pq\" else 16\n",
    "    print(\"=== demo encryption using {variant} ===\".format(variant=variant))\n",
    "\n",
    "    ciphertext        = ascon_encrypt(key, nonce, associateddata, plaintext,  variant)\n",
    "    receivedplaintext = ascon_decrypt(key, nonce, associateddata, ciphertext, variant)\n",
    "\n",
    "    if receivedplaintext == None: print(\"verification failed!\")\n",
    "\n",
    "    demo_print([(\"key\", key),\n",
    "                (\"nonce\", nonce),\n",
    "                (\"plaintext\", plaintext),\n",
    "                (\"ass.data\", associateddata),\n",
    "                (\"ciphertext\", ciphertext[:-16]),\n",
    "                (\"tag\", ciphertext[-16:]),\n",
    "                (\"received\", receivedplaintext),\n",
    "               ])"
   ]
  },
  {
   "cell_type": "code",
   "execution_count": 19,
   "metadata": {
    "colab": {
     "base_uri": "https://localhost:8080/"
    },
    "id": "suaaPjSgiigS",
    "outputId": "f1144022-f020-4793-a92e-12b48baace80"
   },
   "outputs": [
    {
     "name": "stdout",
     "output_type": "stream",
     "text": [
      "=== demo encryption using Ascon-128 ===\n",
      "key:        0xe1261e3905f13801286798129ba36fe6 (16 bytes)\n",
      "nonce:      0xf1107e6dac048ae8f04510f0eeed5367 (16 bytes)\n",
      "plaintext:  0x48656c6c6f2c2049206d204465657021 (16 bytes)\n",
      "ass.data:   0x4153434f4e (5 bytes)\n",
      "ciphertext: 0xb735a3c6c3443f9d8b24bb69ebe36f13 (16 bytes)\n",
      "tag:        0x67a458b0f9a7b4ee40984fdc18a1ed11 (16 bytes)\n",
      "received:   0x48656c6c6f2c2049206d204465657021 (16 bytes)\n"
     ]
    }
   ],
   "source": [
    "demo_aead(\"Ascon-128\")"
   ]
  }
 ],
 "metadata": {
  "colab": {
   "provenance": []
  },
  "kernelspec": {
   "display_name": "Python 3 (ipykernel)",
   "language": "python",
   "name": "python3"
  },
  "language_info": {
   "codemirror_mode": {
    "name": "ipython",
    "version": 3
   },
   "file_extension": ".py",
   "mimetype": "text/x-python",
   "name": "python",
   "nbconvert_exporter": "python",
   "pygments_lexer": "ipython3",
   "version": "3.9.18"
  }
 },
 "nbformat": 4,
 "nbformat_minor": 1
}
